{
 "cells": [
  {
   "cell_type": "code",
   "execution_count": 1,
   "id": "da93a1a9",
   "metadata": {},
   "outputs": [
    {
     "name": "stdout",
     "output_type": "stream",
     "text": [
      "           ancestry  pos1  pos2  pos3  pos4  pos5  pos6  pos7  pos8  pos9  \\\n",
      "237         Mexican     0     2     1     2     0     1     1     0     1   \n",
      "238  NativeAmerican     1     2     1     2     0     1     2     0     0   \n",
      "239         Mexican     0     2     0     2     1     0     2     0     1   \n",
      "240       EastAsian     0     2     0     1     0     0     2     0     1   \n",
      "241       EastAsian     0     0     1     2     2     0     2     0     1   \n",
      "\n",
      "     ...  pos8907  pos8908  pos8909  pos8910  pos8911  pos8912  pos8913  \\\n",
      "237  ...        1        1        1        0        1        1        2   \n",
      "238  ...        2        0        1        0        1        0        2   \n",
      "239  ...        0        0        1        2        1        0        2   \n",
      "240  ...        1        0        0        0        0        2        2   \n",
      "241  ...        0        0        0        1        0        1        2   \n",
      "\n",
      "     pos8914  pos8915  pos8916  \n",
      "237        0        0        0  \n",
      "238        0        0        0  \n",
      "239        0        0        0  \n",
      "240        0        0        0  \n",
      "241        0        0        0  \n",
      "\n",
      "[5 rows x 8917 columns]\n"
     ]
    }
   ],
   "source": [
    "import pandas as pd\n",
    "import seaborn as sns\n",
    "import matplotlib.pyplot as plt\n",
    "import statsmodels.api as sm\n",
    "globalancestrydf = pd.read_csv('GlobalAncestry.csv')\n",
    "\n",
    "print(globalancestrydf.tail())"
   ]
  },
  {
   "cell_type": "code",
   "execution_count": 2,
   "id": "67d17932",
   "metadata": {},
   "outputs": [
    {
     "name": "stdout",
     "output_type": "stream",
     "text": [
      "           ancestry  pos1  pos2  pos3  pos4  pos5  pos6  pos7  pos8  pos9  \\\n",
      "0         EastAsian     0     2     1     1     0     0     2     1     1   \n",
      "1          Oceanian     0     0     0     1     0     2     2     0     0   \n",
      "3         EastAsian     0     2     0     1     1     0     2     1     1   \n",
      "4           African     0     0     0     1     0     2     2     1     0   \n",
      "5         EastAsian     0     1     0     0     0     0     2     0     2   \n",
      "..              ...   ...   ...   ...   ...   ...   ...   ...   ...   ...   \n",
      "235       EastAsian     1     1     2     1     0     1     2     0     2   \n",
      "236         African     0     0     0     0     0     1     2     0     0   \n",
      "238  NativeAmerican     1     2     1     2     0     1     2     0     0   \n",
      "240       EastAsian     0     2     0     1     0     0     2     0     1   \n",
      "241       EastAsian     0     0     1     2     2     0     2     0     1   \n",
      "\n",
      "     ...  pos8907  pos8908  pos8909  pos8910  pos8911  pos8912  pos8913  \\\n",
      "0    ...        2        1        0        1        0        0        2   \n",
      "1    ...        0        0        0        2        1        2        2   \n",
      "3    ...        0        0        0        1        0        1        2   \n",
      "4    ...        1        0        2        1        0        1        1   \n",
      "5    ...        0        0        0        1        0        1        2   \n",
      "..   ...      ...      ...      ...      ...      ...      ...      ...   \n",
      "235  ...        0        1        0        0        0        2        2   \n",
      "236  ...        1        1        1        0        1        1        2   \n",
      "238  ...        2        0        1        0        1        0        2   \n",
      "240  ...        1        0        0        0        0        2        2   \n",
      "241  ...        0        0        0        1        0        1        2   \n",
      "\n",
      "     pos8914  pos8915  pos8916  \n",
      "0          0        0        0  \n",
      "1          0        0        0  \n",
      "3          0        0        0  \n",
      "4          0        0        0  \n",
      "5          0        0        0  \n",
      "..       ...      ...      ...  \n",
      "235        0        0        0  \n",
      "236        0        0        0  \n",
      "238        0        0        0  \n",
      "240        0        0        0  \n",
      "241        0        0        0  \n",
      "\n",
      "[183 rows x 8917 columns]\n"
     ]
    }
   ],
   "source": [
    "train = globalancestrydf[globalancestrydf['ancestry'].isin(['African', 'European', 'EastAsian', 'Oceanian', 'NativeAmerican'])]\n",
    "print(train)"
   ]
  },
  {
   "cell_type": "code",
   "execution_count": 3,
   "id": "732445b3",
   "metadata": {},
   "outputs": [
    {
     "name": "stdout",
     "output_type": "stream",
     "text": [
      "     ancestry  pos1  pos2  pos3  pos4  pos5  pos6  pos7  pos8  pos9  ...  \\\n",
      "31   Unknown1     1     2     1     2     2     0     2     0     2  ...   \n",
      "132  Unknown2     1     0     1     1     1     2     2     0     0  ...   \n",
      "165  Unknown4     2     2     1     0     1     1     1     0     1  ...   \n",
      "173  Unknown3     0     2     1     1     0     2     2     0     0  ...   \n",
      "177  Unknown5     0     2     1     1     0     2     2     0     0  ...   \n",
      "\n",
      "     pos8907  pos8908  pos8909  pos8910  pos8911  pos8912  pos8913  pos8914  \\\n",
      "31         0        0        0        0        0        0        1        0   \n",
      "132        2        0        1        1        0        0        1        0   \n",
      "165        1        0        0        2        0        0        1        0   \n",
      "173        0        0        0        0        1        1        2        0   \n",
      "177        0        0        0        0        1        2        1        0   \n",
      "\n",
      "     pos8915  pos8916  \n",
      "31         0        0  \n",
      "132        0        0  \n",
      "165        1        0  \n",
      "173        0        0  \n",
      "177        0        0  \n",
      "\n",
      "[5 rows x 8917 columns]\n"
     ]
    }
   ],
   "source": [
    "test = globalancestrydf[globalancestrydf['ancestry'].isin(['Unknown1', 'Unknown2', 'Unknown3', 'Unknown4', 'Unknown5'])]\n",
    "print(test)"
   ]
  },
  {
   "cell_type": "code",
   "execution_count": 4,
   "id": "424d21aa",
   "metadata": {
    "scrolled": false
   },
   "outputs": [
    {
     "name": "stdout",
     "output_type": "stream",
     "text": [
      "    ancestry  pos1  pos2  pos3  pos4  pos5  pos6  pos7  pos8  pos9  ...  \\\n",
      "2    Mexican     1     0     2     2     0     1     0     0     1  ...   \n",
      "6    Mexican     0     2     2     2     1     1     2     0     0  ...   \n",
      "7    Mexican     1     2     1     2     0     0     2     0     0  ...   \n",
      "11   Mexican     0     2     2     2     1     2     1     0     1  ...   \n",
      "18   Mexican     0     2     1     2     0     0     2     0     0  ...   \n",
      "33   Mexican     0     2     1     1     1     0     2     0     1  ...   \n",
      "34   Mexican     1     1     1     2     1     1     1     0     0  ...   \n",
      "36   Mexican     1     1     1     1     0     2     2     0     1  ...   \n",
      "51   Mexican     0     1     1     2     0     1     2     0     2  ...   \n",
      "52   Mexican     0     2     1     1     0     2     2     0     1  ...   \n",
      "55   Mexican     1     0     0     2     1     1     2     0     2  ...   \n",
      "60   Mexican     0     1     1     1     2     0     2     0     1  ...   \n",
      "61   Mexican     1     1     2     1     0     1     2     0     1  ...   \n",
      "62   Mexican     1     1     0     2     0     2     2     0     1  ...   \n",
      "70   Mexican     0     1     2     1     1     1     1     0     0  ...   \n",
      "72   Mexican     1     2     1     1     2     2     2     0     0  ...   \n",
      "80   Mexican     1     2     1     2     1     2     2     0     0  ...   \n",
      "87   Mexican     0     2     1     1     1     2     2     0     0  ...   \n",
      "91   Mexican     0     2     0     2     0     0     1     0     1  ...   \n",
      "92   Mexican     1     2     0     1     0     1     2     0     0  ...   \n",
      "94   Mexican     0     2     1     2     0     2     1     0     0  ...   \n",
      "96   Mexican     0     0     2     2     2     1     2     0     0  ...   \n",
      "101  Mexican     0     2     1     2     1     2     1     0     1  ...   \n",
      "104  Mexican     0     1     1     2     2     2     2     0     0  ...   \n",
      "106  Mexican     1     1     2     2     0     1     2     0     2  ...   \n",
      "115  Mexican     0     2     0     2     0     2     1     0     1  ...   \n",
      "116  Mexican     0     2     1     2     0     1     2     0     1  ...   \n",
      "122  Mexican     1     2     2     2     0     2     1     0     1  ...   \n",
      "125  Mexican     0     2     1     0     1     2     2     0     0  ...   \n",
      "127  Mexican     0     2     2     2     1     0     1     0     1  ...   \n",
      "130  Mexican     1     1     1     0     0     0     2     0     1  ...   \n",
      "131  Mexican     0     1     2     2     0     2     2     0     0  ...   \n",
      "135  Mexican     1     1     2     1     2     1     1     0     0  ...   \n",
      "143  Mexican     1     1     1     1     0     1     1     0     1  ...   \n",
      "145  Mexican     0     1     1     1     1     1     1     0     0  ...   \n",
      "150  Mexican     0     2     0     2     0     0     2     0     1  ...   \n",
      "152  Mexican     0     2     1     0     0     1     2     0     0  ...   \n",
      "153  Mexican     1     1     2     2     0     2     2     0     0  ...   \n",
      "155  Mexican     0     2     0     1     0     1     2     0     0  ...   \n",
      "164  Mexican     0     0     1     2     1     1     1     0     2  ...   \n",
      "170  Mexican     0     2     1     2     0     1     2     0     2  ...   \n",
      "176  Mexican     1     2     1     2     0     0     2     0     0  ...   \n",
      "180  Mexican     0     2     1     2     1     1     2     0     0  ...   \n",
      "181  Mexican     0     2     1     1     0     2     2     0     2  ...   \n",
      "186  Mexican     0     0     1     1     0     2     1     0     1  ...   \n",
      "193  Mexican     0     2     2     1     0     1     1     0     0  ...   \n",
      "194  Mexican     0     1     1     1     1     2     2     0     1  ...   \n",
      "195  Mexican     0     2     0     1     0     1     2     0     1  ...   \n",
      "203  Mexican     0     2     2     2     0     2     1     0     0  ...   \n",
      "216  Mexican     0     2     2     2     0     1     1     0     0  ...   \n",
      "217  Mexican     0     2     1     2     0     1     2     0     0  ...   \n",
      "219  Mexican     0     1     0     1     1     1     2     0     0  ...   \n",
      "237  Mexican     0     2     1     2     0     1     1     0     1  ...   \n",
      "239  Mexican     0     2     0     2     1     0     2     0     1  ...   \n",
      "\n",
      "     pos8907  pos8908  pos8909  pos8910  pos8911  pos8912  pos8913  pos8914  \\\n",
      "2          1        0        0        1        1        1        2        0   \n",
      "6          2        1        1        1        1        1        2        0   \n",
      "7          1        0        2        0        2        0        1        0   \n",
      "11         0        1        1        1        1        1        2        0   \n",
      "18         0        0        1        1        1        2        2        0   \n",
      "33         2        1        1        0        1        1        1        0   \n",
      "34         1        0        2        0        1        0        2        0   \n",
      "36         0        0        0        1        1        1        2        0   \n",
      "51         0        1        0        1        0        1        2        0   \n",
      "52         2        1        0        0        0        1        1        0   \n",
      "55         0        0        2        2        0        2        2        0   \n",
      "60         0        0        1        1        1        2        1        0   \n",
      "61         1        0        1        0        1        0        2        0   \n",
      "62         0        0        0        0        2        0        2        0   \n",
      "70         1        0        2        1        1        1        2        0   \n",
      "72         0        0        0        1        1        1        2        0   \n",
      "80         0        0        1        1        2        0        1        0   \n",
      "87         0        0        0        1        1        2        2        0   \n",
      "91         1        0        1        0        1        1        2        0   \n",
      "92         1        1        1        1        0        0        2        0   \n",
      "94         1        0        0        0        1        1        2        0   \n",
      "96         2        0        2        0        1        0        1        0   \n",
      "101        2        0        1        0        2        2        2        0   \n",
      "104        0        0        0        0        1        2        2        0   \n",
      "106        1        1        0        0        2        0        2        0   \n",
      "115        1        1        1        1        2        1        2        0   \n",
      "116        1        1        1        1        1        0        1        0   \n",
      "122        0        1        0        0        0        0        2        0   \n",
      "125        0        1        2        1        1        1        2        0   \n",
      "127        0        1        1        0        1        2        2        0   \n",
      "130        0        0        0        0        1        2        2        0   \n",
      "131        0        1        1        0        0        2        2        0   \n",
      "135        0        0        0        1        1        1        2        0   \n",
      "143        0        0        1        1        1        1        2        0   \n",
      "145        0        0        1        2        0        2        2        0   \n",
      "150        0        0        0        0        2        1        2        0   \n",
      "152        0        0        0        1        2        0        2        0   \n",
      "153        1        0        1        1        0        1        2        0   \n",
      "155        1        0        1        0        2        2        2        0   \n",
      "164        0        1        1        1        1        0        1        1   \n",
      "170        0        1        2        1        1        2        1        0   \n",
      "176        1        1        1        0        1        1        2        0   \n",
      "180        0        1        1        1        1        1        2        0   \n",
      "181        2        1        1        1        1        0        2        0   \n",
      "186        1        0        0        1        2        1        2        0   \n",
      "193        0        1        1        0        0        1        2        0   \n",
      "194        1        0        1        1        1        0        2        0   \n",
      "195        0        1        0        0        1        2        2        0   \n",
      "203        1        1        2        1        1        0        2        0   \n",
      "216        1        0        2        1        2        2        2        0   \n",
      "217        1        1        2        0        1        1        2        0   \n",
      "219        1        1        1        2        0        2        1        0   \n",
      "237        1        1        1        0        1        1        2        0   \n",
      "239        0        0        1        2        1        0        2        0   \n",
      "\n",
      "     pos8915  pos8916  \n",
      "2          0        0  \n",
      "6          0        0  \n",
      "7          0        0  \n",
      "11         1        0  \n",
      "18         1        0  \n",
      "33         0        0  \n",
      "34         0        1  \n",
      "36         0        0  \n",
      "51         0        1  \n",
      "52         0        0  \n",
      "55         1        0  \n",
      "60         0        0  \n",
      "61         0        0  \n",
      "62         0        0  \n",
      "70         0        0  \n",
      "72         1        0  \n",
      "80         1        0  \n",
      "87         0        0  \n",
      "91         0        0  \n",
      "92         0        0  \n",
      "94         0        0  \n",
      "96         0        0  \n",
      "101        0        0  \n",
      "104        0        0  \n",
      "106        0        0  \n",
      "115        0        0  \n",
      "116        0        1  \n",
      "122        0        0  \n",
      "125        0        0  \n",
      "127        0        0  \n",
      "130        0        0  \n",
      "131        0        0  \n",
      "135        0        0  \n",
      "143        1        0  \n",
      "145        0        0  \n",
      "150        0        0  \n",
      "152        0        0  \n",
      "153        1        1  \n",
      "155        1        0  \n",
      "164        0        0  \n",
      "170        0        0  \n",
      "176        0        0  \n",
      "180        1        0  \n",
      "181        0        0  \n",
      "186        1        0  \n",
      "193        0        0  \n",
      "194        1        0  \n",
      "195        0        1  \n",
      "203        0        1  \n",
      "216        1        0  \n",
      "217        1        0  \n",
      "219        0        0  \n",
      "237        0        0  \n",
      "239        0        0  \n",
      "\n",
      "[54 rows x 8917 columns]\n"
     ]
    }
   ],
   "source": [
    "testmex = globalancestrydf[globalancestrydf['ancestry']=='Mexican']\n",
    "print(testmex)"
   ]
  },
  {
   "cell_type": "code",
   "execution_count": 5,
   "id": "56b38276",
   "metadata": {
    "scrolled": false
   },
   "outputs": [
    {
     "name": "stdout",
     "output_type": "stream",
     "text": [
      "           ancestry  pos1  pos2  pos3  pos4  pos5  pos6  pos7  pos8  pos9  \\\n",
      "0         EastAsian     0     2     1     1     0     0     2     1     1   \n",
      "1          Oceanian     0     0     0     1     0     2     2     0     0   \n",
      "3         EastAsian     0     2     0     1     1     0     2     1     1   \n",
      "4           African     0     0     0     1     0     2     2     1     0   \n",
      "5         EastAsian     0     1     0     0     0     0     2     0     2   \n",
      "..              ...   ...   ...   ...   ...   ...   ...   ...   ...   ...   \n",
      "235       EastAsian     1     1     2     1     0     1     2     0     2   \n",
      "236         African     0     0     0     0     0     1     2     0     0   \n",
      "238  NativeAmerican     1     2     1     2     0     1     2     0     0   \n",
      "240       EastAsian     0     2     0     1     0     0     2     0     1   \n",
      "241       EastAsian     0     0     1     2     2     0     2     0     1   \n",
      "\n",
      "     ...  pos8907  pos8908  pos8909  pos8910  pos8911  pos8912  pos8913  \\\n",
      "0    ...        2        1        0        1        0        0        2   \n",
      "1    ...        0        0        0        2        1        2        2   \n",
      "3    ...        0        0        0        1        0        1        2   \n",
      "4    ...        1        0        2        1        0        1        1   \n",
      "5    ...        0        0        0        1        0        1        2   \n",
      "..   ...      ...      ...      ...      ...      ...      ...      ...   \n",
      "235  ...        0        1        0        0        0        2        2   \n",
      "236  ...        1        1        1        0        1        1        2   \n",
      "238  ...        2        0        1        0        1        0        2   \n",
      "240  ...        1        0        0        0        0        2        2   \n",
      "241  ...        0        0        0        1        0        1        2   \n",
      "\n",
      "     pos8914  pos8915  pos8916  \n",
      "0          0        0        0  \n",
      "1          0        0        0  \n",
      "3          0        0        0  \n",
      "4          0        0        0  \n",
      "5          0        0        0  \n",
      "..       ...      ...      ...  \n",
      "235        0        0        0  \n",
      "236        0        0        0  \n",
      "238        0        0        0  \n",
      "240        0        0        0  \n",
      "241        0        0        0  \n",
      "\n",
      "[183 rows x 8917 columns]\n"
     ]
    }
   ],
   "source": [
    "print(train)"
   ]
  },
  {
   "cell_type": "code",
   "execution_count": 6,
   "id": "baa8b6e4",
   "metadata": {},
   "outputs": [],
   "source": [
    "X = train.copy(deep=True)"
   ]
  },
  {
   "cell_type": "code",
   "execution_count": 7,
   "id": "be844b05",
   "metadata": {},
   "outputs": [],
   "source": [
    "X.drop(columns=['ancestry'], inplace=True)"
   ]
  },
  {
   "cell_type": "code",
   "execution_count": 8,
   "id": "bd4cda17",
   "metadata": {},
   "outputs": [],
   "source": [
    "#y=train['ancestry'].copy(deep=True)\n",
    "#print(y)"
   ]
  },
  {
   "cell_type": "code",
   "execution_count": 9,
   "id": "50c68d18",
   "metadata": {},
   "outputs": [],
   "source": [
    "from sklearn.preprocessing import LabelEncoder\n",
    "\n",
    "labelEncoder = LabelEncoder()"
   ]
  },
  {
   "cell_type": "code",
   "execution_count": 10,
   "id": "cd8a1bd1",
   "metadata": {},
   "outputs": [],
   "source": [
    "#y = labelEncoder.fit_transform(y)"
   ]
  },
  {
   "cell_type": "code",
   "execution_count": 11,
   "id": "195ac634",
   "metadata": {},
   "outputs": [
    {
     "name": "stdout",
     "output_type": "stream",
     "text": [
      "0      1\n",
      "1      4\n",
      "3      1\n",
      "4      0\n",
      "5      1\n",
      "      ..\n",
      "235    1\n",
      "236    0\n",
      "238    3\n",
      "240    1\n",
      "241    1\n",
      "Name: ancestry, Length: 183, dtype: int32\n"
     ]
    }
   ],
   "source": [
    "Y = train.copy(deep=True)\n",
    "Y['ancestry'] = labelEncoder.fit_transform(Y['ancestry'])\n",
    "y = Y['ancestry']\n",
    "print(y)"
   ]
  },
  {
   "cell_type": "code",
   "execution_count": 12,
   "id": "927b0f24",
   "metadata": {},
   "outputs": [],
   "source": [
    "from sklearn.linear_model import RidgeCV\n",
    "from sklearn.linear_model import Ridge\n",
    "from sklearn.model_selection import cross_val_score\n",
    "import numpy as np\n",
    "\n",
    "alphanum = [0.001, 0.01, 0.1, 1, 10, 100]\n",
    "ridgecv = RidgeCV(alphas=alphanum, cv=10)\n",
    "ridgecv.fit(X, y)\n",
    "optimal_alpha = ridgecv.alpha_"
   ]
  },
  {
   "cell_type": "code",
   "execution_count": 13,
   "id": "a1ee6e9f",
   "metadata": {},
   "outputs": [
    {
     "name": "stdout",
     "output_type": "stream",
     "text": [
      "Optimal alpha: 0.001\n",
      "Mean cross-validation score: 0.9828925529102552\n"
     ]
    }
   ],
   "source": [
    "ridge_model = Ridge(alpha=optimal_alpha)\n",
    "cvs = cross_val_score(ridge_model, X, y, cv=10) \n",
    "mean_cvs= np.mean(cvs)\n",
    "print(\"Optimal alpha:\", optimal_alpha)\n",
    "print(\"Mean cross-validation score:\", mean_cvs)"
   ]
  },
  {
   "cell_type": "markdown",
   "id": "e787d8aa",
   "metadata": {},
   "source": [
    "temp = test.copy(deep=True)\n",
    "temp.drop(columns=['ancestry'], inplace=True)\n",
    "X_test = temp.copy(deep=True)\n",
    "print(X_test)"
   ]
  },
  {
   "cell_type": "code",
   "execution_count": 14,
   "id": "a5b916a0",
   "metadata": {},
   "outputs": [
    {
     "name": "stdout",
     "output_type": "stream",
     "text": [
      "[1.00000006e+00 3.99999996e+00 1.00000007e+00 9.71554927e-08\n",
      " 1.00000008e+00 2.99999998e+00 2.00000001e+00 1.00000003e+00\n",
      " 1.00000007e+00 1.99999999e+00 6.26657657e-08 1.00000012e+00\n",
      " 3.00000000e+00 2.99999998e+00 1.00000004e+00 1.00000002e+00\n",
      " 1.99999995e+00 1.00000006e+00 2.00000001e+00 1.00000005e+00\n",
      " 1.00000002e+00 1.00000008e+00 1.99999997e+00 1.00000004e+00\n",
      " 2.99999993e+00 2.99999995e+00 1.00000006e+00 5.84577356e-08\n",
      " 1.00000006e+00 1.15478752e-08 1.00000007e+00 5.16029620e-08\n",
      " 2.99999994e+00 2.00000000e+00 2.99999998e+00 8.80444010e-08\n",
      " 2.99999994e+00 3.00000004e+00 2.00000003e+00 2.00000001e+00\n",
      " 1.00000003e+00 1.00000005e+00 2.99999989e+00 3.99999997e+00\n",
      " 2.00000002e+00 1.00000005e+00 2.99999995e+00 1.00000003e+00\n",
      " 4.23313100e-08 2.99999998e+00 4.25791479e-08 2.00000004e+00\n",
      " 3.99999985e+00 2.00000003e+00 1.10137108e-08 9.99999980e-01\n",
      " 1.00000004e+00 1.00000005e+00 1.00000005e+00 1.00000004e+00\n",
      " 1.05877146e-07 2.99999999e+00 3.99999986e+00 7.87108220e-08\n",
      " 1.00000007e+00 3.99999996e+00 7.49593305e-08 3.99999991e+00\n",
      " 1.00000004e+00 1.00000005e+00 3.99999980e+00 2.00000000e+00\n",
      " 2.99999986e+00 1.99999999e+00 4.00000000e+00 3.99999996e+00\n",
      " 2.00000000e+00 3.99999997e+00 2.99999989e+00 3.99999990e+00\n",
      " 3.00000001e+00 2.99999998e+00 1.00000009e+00 1.00000004e+00\n",
      " 1.99999995e+00 1.00000009e+00 3.99999998e+00 3.57030370e-08\n",
      " 9.39850426e-08 2.00000006e+00 2.99999992e+00 2.99999993e+00\n",
      " 2.48491888e-08 3.99999994e+00 4.00000002e+00 2.99999986e+00\n",
      " 1.00000005e+00 3.99999991e+00 2.00000001e+00 2.00000000e+00\n",
      " 1.99999999e+00 1.00000008e+00 1.99999996e+00 2.99999991e+00\n",
      " 1.99999999e+00 1.00000006e+00 1.00000003e+00 2.99999994e+00\n",
      " 3.00000000e+00 1.99999999e+00 1.00000005e+00 3.99999993e+00\n",
      " 1.00000005e+00 1.00000006e+00 3.99999997e+00 3.99999994e+00\n",
      " 2.99999993e+00 3.99999999e+00 1.00000010e+00 1.00000003e+00\n",
      " 2.99999993e+00 2.00000001e+00 2.99999996e+00 1.00000005e+00\n",
      " 6.17702976e-08 3.99999987e+00 1.99999999e+00 3.99999988e+00\n",
      " 1.00000001e+00 1.99999998e+00 2.35937094e-08 1.00000004e+00\n",
      " 7.00005926e-08 1.16499688e-08 1.00000005e+00 2.99999980e+00\n",
      " 2.00000000e+00 1.99999998e+00 3.99999995e+00 1.00000005e+00\n",
      " 2.00000004e+00 3.99999996e+00 1.00000003e+00 3.99999985e+00\n",
      " 1.99999995e+00 5.23907518e-08 5.07935559e-08 2.00000000e+00\n",
      " 1.00000005e+00 1.99999999e+00 3.27804806e-08 1.00000005e+00\n",
      " 1.00000001e+00 2.99999996e+00 2.00000000e+00 3.99999987e+00\n",
      " 3.99999989e+00 3.99999967e+00 2.99999993e+00 2.00000000e+00\n",
      " 5.77641190e-09 2.99999994e+00 2.00000004e+00 1.00000002e+00\n",
      " 1.00000007e+00 1.99999997e+00 3.00000000e+00 1.00000005e+00\n",
      " 2.99999992e+00 1.00000003e+00 1.00000003e+00 1.76004327e-08\n",
      " 3.00000002e+00 1.00000005e+00 1.99999994e+00 1.00000006e+00\n",
      " 1.00000000e+00 1.00000000e+00 1.00000003e+00 4.36562263e-08\n",
      " 2.99999995e+00 1.00000002e+00 1.00000001e+00]\n"
     ]
    }
   ],
   "source": [
    "ridge_model.fit(X, y)\n",
    "predictions = ridge_model.predict(X)\n",
    "print(predictions)"
   ]
  },
  {
   "cell_type": "code",
   "execution_count": 15,
   "id": "7b1947f6",
   "metadata": {
    "scrolled": true
   },
   "outputs": [
    {
     "name": "stdout",
     "output_type": "stream",
     "text": [
      "[1, 4, 1, 0, 1, 3, 2, 1, 1, 2, 0, 1, 3, 3, 1, 1, 2, 1, 2, 1, 1, 1, 2, 1, 3, 3, 1, 0, 1, 0, 1, 0, 3, 2, 3, 0, 3, 3, 2, 2, 1, 1, 3, 4, 2, 1, 3, 1, 0, 3, 0, 2, 4, 2, 0, 1, 1, 1, 1, 1, 0, 3, 4, 0, 1, 4, 0, 4, 1, 1, 4, 2, 3, 2, 4, 4, 2, 4, 3, 4, 3, 3, 1, 1, 2, 1, 4, 0, 0, 2, 3, 3, 0, 4, 4, 3, 1, 4, 2, 2, 2, 1, 2, 3, 2, 1, 1, 3, 3, 2, 1, 4, 1, 1, 4, 4, 3, 4, 1, 1, 3, 2, 3, 1, 0, 4, 2, 4, 1, 2, 0, 1, 0, 0, 1, 3, 2, 2, 4, 1, 2, 4, 1, 4, 2, 0, 0, 2, 1, 2, 0, 1, 1, 3, 2, 4, 4, 4, 3, 2, 0, 3, 2, 1, 1, 2, 3, 1, 3, 1, 1, 0, 3, 1, 2, 1, 1, 1, 1, 0, 3, 1, 1]\n"
     ]
    }
   ],
   "source": [
    "rounded_predictions = [round(value) for value in predictions] \n",
    "print(rounded_predictions)"
   ]
  },
  {
   "cell_type": "code",
   "execution_count": 16,
   "id": "a1b29c7a",
   "metadata": {
    "scrolled": true
   },
   "outputs": [
    {
     "name": "stdout",
     "output_type": "stream",
     "text": [
      "           ancestry  pos1  pos2  pos3  pos4  pos5  pos6  pos7  pos8  pos9  \\\n",
      "0         EastAsian     0     2     1     1     0     0     2     1     1   \n",
      "1          Oceanian     0     0     0     1     0     2     2     0     0   \n",
      "3         EastAsian     0     2     0     1     1     0     2     1     1   \n",
      "4           African     0     0     0     1     0     2     2     1     0   \n",
      "5         EastAsian     0     1     0     0     0     0     2     0     2   \n",
      "..              ...   ...   ...   ...   ...   ...   ...   ...   ...   ...   \n",
      "235       EastAsian     1     1     2     1     0     1     2     0     2   \n",
      "236         African     0     0     0     0     0     1     2     0     0   \n",
      "238  NativeAmerican     1     2     1     2     0     1     2     0     0   \n",
      "240       EastAsian     0     2     0     1     0     0     2     0     1   \n",
      "241       EastAsian     0     0     1     2     2     0     2     0     1   \n",
      "\n",
      "     ...  pos8909  pos8910  pos8911  pos8912  pos8913  pos8914  pos8915  \\\n",
      "0    ...        0        1        0        0        2        0        0   \n",
      "1    ...        0        2        1        2        2        0        0   \n",
      "3    ...        0        1        0        1        2        0        0   \n",
      "4    ...        2        1        0        1        1        0        0   \n",
      "5    ...        0        1        0        1        2        0        0   \n",
      "..   ...      ...      ...      ...      ...      ...      ...      ...   \n",
      "235  ...        0        0        0        2        2        0        0   \n",
      "236  ...        1        0        1        1        2        0        0   \n",
      "238  ...        1        0        1        0        2        0        0   \n",
      "240  ...        0        0        0        2        2        0        0   \n",
      "241  ...        0        1        0        1        2        0        0   \n",
      "\n",
      "     pos8916     pancestry  prancestry  \n",
      "0          0  1.000000e+00           1  \n",
      "1          0  4.000000e+00           4  \n",
      "3          0  1.000000e+00           1  \n",
      "4          0  9.715549e-08           0  \n",
      "5          0  1.000000e+00           1  \n",
      "..       ...           ...         ...  \n",
      "235        0  1.000000e+00           1  \n",
      "236        0  4.365623e-08           0  \n",
      "238        0  3.000000e+00           3  \n",
      "240        0  1.000000e+00           1  \n",
      "241        0  1.000000e+00           1  \n",
      "\n",
      "[183 rows x 8919 columns]\n"
     ]
    }
   ],
   "source": [
    "train_withPreds = train.copy(deep=True)\n",
    "train_withPreds = train_withPreds.assign(pancestry=predictions)\n",
    "train_withPreds = train_withPreds.assign(prancestry=rounded_predictions)\n",
    "print(train_withPreds)"
   ]
  },
  {
   "cell_type": "code",
   "execution_count": 17,
   "id": "999172c5",
   "metadata": {},
   "outputs": [
    {
     "name": "stdout",
     "output_type": "stream",
     "text": [
      "           ancestry  pos1  pos2  pos3  pos4  pos5  pos6  pos7  pos8  pos9  \\\n",
      "0         EastAsian     0     2     1     1     0     0     2     1     1   \n",
      "1          Oceanian     0     0     0     1     0     2     2     0     0   \n",
      "3         EastAsian     0     2     0     1     1     0     2     1     1   \n",
      "4           African     0     0     0     1     0     2     2     1     0   \n",
      "5         EastAsian     0     1     0     0     0     0     2     0     2   \n",
      "..              ...   ...   ...   ...   ...   ...   ...   ...   ...   ...   \n",
      "235       EastAsian     1     1     2     1     0     1     2     0     2   \n",
      "236         African     0     0     0     0     0     1     2     0     0   \n",
      "238  NativeAmerican     1     2     1     2     0     1     2     0     0   \n",
      "240       EastAsian     0     2     0     1     0     0     2     0     1   \n",
      "241       EastAsian     0     0     1     2     2     0     2     0     1   \n",
      "\n",
      "     ...  pos8910  pos8911  pos8912  pos8913  pos8914  pos8915  pos8916  \\\n",
      "0    ...        1        0        0        2        0        0        0   \n",
      "1    ...        2        1        2        2        0        0        0   \n",
      "3    ...        1        0        1        2        0        0        0   \n",
      "4    ...        1        0        1        1        0        0        0   \n",
      "5    ...        1        0        1        2        0        0        0   \n",
      "..   ...      ...      ...      ...      ...      ...      ...      ...   \n",
      "235  ...        0        0        2        2        0        0        0   \n",
      "236  ...        0        1        1        2        0        0        0   \n",
      "238  ...        0        1        0        2        0        0        0   \n",
      "240  ...        0        0        2        2        0        0        0   \n",
      "241  ...        1        0        1        2        0        0        0   \n",
      "\n",
      "        pancestry  prancestry  ancestryn  \n",
      "0    1.000000e+00           1          1  \n",
      "1    4.000000e+00           4          4  \n",
      "3    1.000000e+00           1          1  \n",
      "4    9.715549e-08           0          0  \n",
      "5    1.000000e+00           1          1  \n",
      "..            ...         ...        ...  \n",
      "235  1.000000e+00           1          1  \n",
      "236  4.365623e-08           0          0  \n",
      "238  3.000000e+00           3          3  \n",
      "240  1.000000e+00           1          1  \n",
      "241  1.000000e+00           1          1  \n",
      "\n",
      "[183 rows x 8920 columns]\n"
     ]
    }
   ],
   "source": [
    "train_withPreds['ancestryn'] = labelEncoder.fit_transform(train_withPreds['ancestry'])\n",
    "print(train_withPreds)"
   ]
  },
  {
   "cell_type": "code",
   "execution_count": 18,
   "id": "fb5f2864",
   "metadata": {},
   "outputs": [
    {
     "data": {
      "image/png": "[encoded data removed]",
      "text/plain": [
       "<Figure size 640x480 with 2 Axes>"
      ]
     },
     "metadata": {},
     "output_type": "display_data"
    }
   ],
   "source": [
    "from sklearn import metrics\n",
    "confusionMatrix = metrics.confusion_matrix(y, rounded_predictions)\n",
    "confusionMatrixDisplay = metrics.ConfusionMatrixDisplay(confusion_matrix = confusionMatrix)\n",
    "confusionMatrixDisplay.plot()\n",
    "plt.title(\"Confusion Matrix\")\n",
    "plt.show()"
   ]
  },
  {
   "cell_type": "code",
   "execution_count": 19,
   "id": "ecb0a518",
   "metadata": {},
   "outputs": [
    {
     "name": "stdout",
     "output_type": "stream",
     "text": [
      "Accuracy: 1.0\n"
     ]
    }
   ],
   "source": [
    "accuracy = metrics.accuracy_score(y, rounded_predictions)\n",
    "print(\"Accuracy:\", accuracy)"
   ]
  },
  {
   "cell_type": "code",
   "execution_count": 20,
   "id": "767bfdea",
   "metadata": {},
   "outputs": [
    {
     "name": "stdout",
     "output_type": "stream",
     "text": [
      "[1.04164852 0.14688886 1.96632226 2.91117318 3.73344234]\n"
     ]
    }
   ],
   "source": [
    "X_test = test.copy(deep=True)\n",
    "X_test.drop(columns=['ancestry'], inplace=True)\n",
    "ridge_model.fit(X, y)\n",
    "predictions = ridge_model.predict(X_test)\n",
    "print(predictions)"
   ]
  },
  {
   "cell_type": "code",
   "execution_count": 21,
   "id": "7e2fed5b",
   "metadata": {},
   "outputs": [
    {
     "name": "stdout",
     "output_type": "stream",
     "text": [
      "[1, 0, 2, 3, 4]\n"
     ]
    }
   ],
   "source": [
    "rounded_predictions = [round(value) for value in predictions] \n",
    "print(rounded_predictions)"
   ]
  },
  {
   "cell_type": "code",
   "execution_count": 22,
   "id": "048ef190",
   "metadata": {},
   "outputs": [
    {
     "data": {
      "text/plain": [
       "array(['EastAsian', 'Oceanian', 'African', 'NativeAmerican', 'European'],\n",
       "      dtype=object)"
      ]
     },
     "execution_count": 22,
     "metadata": {},
     "output_type": "execute_result"
    }
   ],
   "source": [
    "train_withPreds['ancestry'].unique()\n"
   ]
  },
  {
   "cell_type": "code",
   "execution_count": 23,
   "id": "d6a762d3",
   "metadata": {},
   "outputs": [
    {
     "data": {
      "text/plain": [
       "array([1, 4, 0, 3, 2])"
      ]
     },
     "execution_count": 23,
     "metadata": {},
     "output_type": "execute_result"
    }
   ],
   "source": [
    "train_withPreds['ancestryn'].unique()"
   ]
  },
  {
   "cell_type": "code",
   "execution_count": 24,
   "id": "12ffffb1",
   "metadata": {},
   "outputs": [
    {
     "name": "stdout",
     "output_type": "stream",
     "text": [
      "     ancestry  prancestry  pos1  pos2  pos3  pos4  pos5  pos6  pos7  pos8  \\\n",
      "31   Unknown1           1     1     2     1     2     2     0     2     0   \n",
      "132  Unknown2           0     1     0     1     1     1     2     2     0   \n",
      "165  Unknown4           2     2     2     1     0     1     1     1     0   \n",
      "173  Unknown3           3     0     2     1     1     0     2     2     0   \n",
      "177  Unknown5           4     0     2     1     1     0     2     2     0   \n",
      "\n",
      "     ...  pos8908  pos8909  pos8910  pos8911  pos8912  pos8913  pos8914  \\\n",
      "31   ...        0        0        0        0        0        1        0   \n",
      "132  ...        0        1        1        0        0        1        0   \n",
      "165  ...        0        0        2        0        0        1        0   \n",
      "173  ...        0        0        0        1        1        2        0   \n",
      "177  ...        0        0        0        1        2        1        0   \n",
      "\n",
      "     pos8915  pos8916  pancestry  \n",
      "31         0        0   1.041649  \n",
      "132        0        0   0.146889  \n",
      "165        1        0   1.966322  \n",
      "173        0        0   2.911173  \n",
      "177        0        0   3.733442  \n",
      "\n",
      "[5 rows x 8919 columns]\n"
     ]
    }
   ],
   "source": [
    "test_withPreds = test.copy(deep=True)\n",
    "test_withPreds = test_withPreds.assign(pancestry=predictions)\n",
    "test_withPreds = test_withPreds.assign(prancestry=rounded_predictions)\n",
    "move_column = test_withPreds.pop('prancestry')\n",
    "test_withPreds.insert(1, 'prancestry', move_column)\n",
    "print(test_withPreds)"
   ]
  },
  {
   "cell_type": "code",
   "execution_count": 25,
   "id": "71413ed6",
   "metadata": {},
   "outputs": [
    {
     "name": "stdout",
     "output_type": "stream",
     "text": [
      "Ancestry----------Prediction\n",
      "----------------------------\n",
      "Unknown1----------EastAsian\n",
      "Unknown2----------African\n",
      "Unknown3----------NativeAmerican\n",
      "Unknown4----------European\n",
      "Unknown5----------Oceanian\n"
     ]
    }
   ],
   "source": [
    "print(\"Ancestry----------Prediction\")\n",
    "print(\"----------------------------\")\n",
    "print(\"Unknown1----------EastAsian\")\n",
    "print(\"Unknown2----------African\")\n",
    "print(\"Unknown3----------NativeAmerican\")\n",
    "print(\"Unknown4----------European\")\n",
    "print(\"Unknown5----------Oceanian\")"
   ]
  },
  {
   "cell_type": "code",
   "execution_count": null,
   "id": "61bbe57f",
   "metadata": {},
   "outputs": [],
   "source": []
  }
 ],
 "metadata": {
  "kernelspec": {
   "display_name": "Python 3 (ipykernel)",
   "language": "python",
   "name": "python3"
  },
  "language_info": {
   "codemirror_mode": {
    "name": "ipython",
    "version": 3
   },
   "file_extension": ".py",
   "mimetype": "text/x-python",
   "name": "python",
   "nbconvert_exporter": "python",
   "pygments_lexer": "ipython3",
   "version": "3.9.13"
  }
 },
 "nbformat": 4,
 "nbformat_minor": 5
}
