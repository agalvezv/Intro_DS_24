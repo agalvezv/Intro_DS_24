{
 "cells": [
  {
   "cell_type": "code",
   "execution_count": 2,
   "id": "1e74782c",
   "metadata": {
    "scrolled": true
   },
   "outputs": [
    {
     "name": "stdout",
     "output_type": "stream",
     "text": [
      "                            College Private   Apps  Accept  Enroll  Top10perc  \\\n",
      "772         Worcester State College      No   2197    1515     543          4   \n",
      "773               Xavier University     Yes   1959    1805     695         24   \n",
      "774  Xavier University of Louisiana     Yes   2097    1915     695         34   \n",
      "775                 Yale University     Yes  10705    2453    1317         95   \n",
      "776    York College of Pennsylvania     Yes   2989    1855     691         28   \n",
      "\n",
      "     Top25perc  F.Undergrad  P.Undergrad  Outstate  Room.Board  Books  \\\n",
      "772         26         3089         2029      6797        3900    500   \n",
      "773         47         2849         1107     11520        4960    600   \n",
      "774         61         2793          166      6900        4200    617   \n",
      "775         99         5217           83     19840        6510    630   \n",
      "776         63         2988         1726      4990        3560    500   \n",
      "\n",
      "     Personal  PhD  Terminal  S.F.Ratio  perc.alumni  Expend  Grad.Rate  \n",
      "772      1200   60        60       21.0           14    4469         40  \n",
      "773      1250   73        75       13.3           31    9189         83  \n",
      "774       781   67        75       14.4           20    8323         49  \n",
      "775      2115   96        96        5.8           49   40386         99  \n",
      "776      1250   75        75       18.1           28    4509         99  \n"
     ]
    }
   ],
   "source": [
    "import pandas as pd\n",
    "import seaborn as sns\n",
    "import matplotlib.pyplot as plt\n",
    "import statsmodels.api as sm\n",
    "collegedf = pd.read_csv('college.csv')\n",
    "\n",
    "    \n",
    "\n",
    "print(collegedf.tail())"
   ]
  },
  {
   "cell_type": "code",
   "execution_count": 3,
   "id": "31a83e7e",
   "metadata": {
    "scrolled": true
   },
   "outputs": [
    {
     "name": "stdout",
     "output_type": "stream",
     "text": [
      "                            College Private   Apps  Accept  Enroll  Top10perc  \\\n",
      "772         Worcester State College      No   2197    1515     543          4   \n",
      "773               Xavier University     Yes   1959    1805     695         24   \n",
      "774  Xavier University of Louisiana     Yes   2097    1915     695         34   \n",
      "775                 Yale University     Yes  10705    2453    1317         95   \n",
      "776    York College of Pennsylvania     Yes   2989    1855     691         28   \n",
      "\n",
      "     Top25perc  F.Undergrad  P.Undergrad  Outstate  Room.Board  Books  \\\n",
      "772         26         3089         2029      6797        3900    500   \n",
      "773         47         2849         1107     11520        4960    600   \n",
      "774         61         2793          166      6900        4200    617   \n",
      "775         99         5217           83     19840        6510    630   \n",
      "776         63         2988         1726      4990        3560    500   \n",
      "\n",
      "     Personal  PhD  Terminal  S.F.Ratio  perc.alumni  Expend  Grad.Rate  \\\n",
      "772      1200   60        60       21.0           14    4469         40   \n",
      "773      1250   73        75       13.3           31    9189         83   \n",
      "774       781   67        75       14.4           20    8323         49   \n",
      "775      2115   96        96        5.8           49   40386         99   \n",
      "776      1250   75        75       18.1           28    4509         99   \n",
      "\n",
      "     Private_N  \n",
      "772          0  \n",
      "773          1  \n",
      "774          1  \n",
      "775          1  \n",
      "776          1  \n"
     ]
    }
   ],
   "source": [
    "collegerecoded =  collegedf.copy(deep=True)\n",
    "\n",
    "def privCatToNumber(private):\n",
    "    if private == 'Yes':\n",
    "        return 1\n",
    "    elif private == 'No':\n",
    "        return 0\n",
    "collegerecoded['Private_N'] = collegerecoded['Private'].apply(privCatToNumber)\n",
    "print(collegerecoded.tail())\n",
    "\n"
   ]
  },
  {
   "cell_type": "code",
   "execution_count": 5,
   "id": "b44c7b7e",
   "metadata": {},
   "outputs": [
    {
     "name": "stdout",
     "output_type": "stream",
     "text": [
      "777\n"
     ]
    }
   ],
   "source": [
    "college_names = collegerecoded['College'].nunique()\n",
    "print(college_names)\n",
    "\n"
   ]
  },
  {
   "cell_type": "code",
   "execution_count": 6,
   "id": "fd2ef6b6",
   "metadata": {},
   "outputs": [],
   "source": [
    "collegerecoded.drop(['College', 'Private'], axis=1, inplace=True)"
   ]
  },
  {
   "cell_type": "code",
   "execution_count": 7,
   "id": "b9c5e7d3",
   "metadata": {},
   "outputs": [
    {
     "name": "stdout",
     "output_type": "stream",
     "text": [
      "      Apps  Accept  Enroll  Top10perc  Top25perc  F.Undergrad  P.Undergrad  \\\n",
      "0     1660    1232     721         23         52         2885          537   \n",
      "1     2186    1924     512         16         29         2683         1227   \n",
      "2     1428    1097     336         22         50         1036           99   \n",
      "3      417     349     137         60         89          510           63   \n",
      "4      193     146      55         16         44          249          869   \n",
      "..     ...     ...     ...        ...        ...          ...          ...   \n",
      "772   2197    1515     543          4         26         3089         2029   \n",
      "773   1959    1805     695         24         47         2849         1107   \n",
      "774   2097    1915     695         34         61         2793          166   \n",
      "775  10705    2453    1317         95         99         5217           83   \n",
      "776   2989    1855     691         28         63         2988         1726   \n",
      "\n",
      "     Outstate  Room.Board  Books  Personal  PhD  Terminal  S.F.Ratio  \\\n",
      "0        7440        3300    450      2200   70        78       18.1   \n",
      "1       12280        6450    750      1500   29        30       12.2   \n",
      "2       11250        3750    400      1165   53        66       12.9   \n",
      "3       12960        5450    450       875   92        97        7.7   \n",
      "4        7560        4120    800      1500   76        72       11.9   \n",
      "..        ...         ...    ...       ...  ...       ...        ...   \n",
      "772      6797        3900    500      1200   60        60       21.0   \n",
      "773     11520        4960    600      1250   73        75       13.3   \n",
      "774      6900        4200    617       781   67        75       14.4   \n",
      "775     19840        6510    630      2115   96        96        5.8   \n",
      "776      4990        3560    500      1250   75        75       18.1   \n",
      "\n",
      "     perc.alumni  Expend  Grad.Rate  Private_N  \n",
      "0             12    7041         60          1  \n",
      "1             16   10527         56          1  \n",
      "2             30    8735         54          1  \n",
      "3             37   19016         59          1  \n",
      "4              2   10922         15          1  \n",
      "..           ...     ...        ...        ...  \n",
      "772           14    4469         40          0  \n",
      "773           31    9189         83          1  \n",
      "774           20    8323         49          1  \n",
      "775           49   40386         99          1  \n",
      "776           28    4509         99          1  \n",
      "\n",
      "[777 rows x 18 columns]\n"
     ]
    }
   ],
   "source": [
    "print(collegerecoded)"
   ]
  },
  {
   "cell_type": "code",
   "execution_count": 15,
   "id": "ab7f02c1",
   "metadata": {},
   "outputs": [
    {
     "name": "stdout",
     "output_type": "stream",
     "text": [
      "                            OLS Regression Results                            \n",
      "==============================================================================\n",
      "Dep. Variable:              Private_N   R-squared:                       0.636\n",
      "Model:                            OLS   Adj. R-squared:                  0.628\n",
      "Method:                 Least Squares   F-statistic:                     77.94\n",
      "Date:                Sat, 06 Apr 2024   Prob (F-statistic):          1.99e-153\n",
      "Time:                        18:41:24   Log-Likelihood:                -81.739\n",
      "No. Observations:                 777   AIC:                             199.5\n",
      "Df Residuals:                     759   BIC:                             283.3\n",
      "Df Model:                          17                                         \n",
      "Covariance Type:            nonrobust                                         \n",
      "===============================================================================\n",
      "                  coef    std err          t      P>|t|      [0.025      0.975]\n",
      "-------------------------------------------------------------------------------\n",
      "const           0.8799      0.102      8.640      0.000       0.680       1.080\n",
      "Apps        -3.371e-05    9.4e-06     -3.586      0.000   -5.22e-05   -1.53e-05\n",
      "Accept       4.259e-05   1.84e-05      2.320      0.021    6.56e-06    7.86e-05\n",
      "Enroll      -1.058e-05   4.93e-05     -0.215      0.830      -0.000    8.62e-05\n",
      "Top10perc       0.0022      0.002      1.424      0.155      -0.001       0.005\n",
      "Top25perc      -0.0002      0.001     -0.170      0.865      -0.003       0.002\n",
      "F.Undergrad -2.919e-05    8.5e-06     -3.435      0.001   -4.59e-05   -1.25e-05\n",
      "P.Undergrad -9.344e-06    8.4e-06     -1.113      0.266   -2.58e-05    7.14e-06\n",
      "Outstate      4.37e-05   4.79e-06      9.128      0.000    3.43e-05    5.31e-05\n",
      "Room.Board   3.677e-05   1.26e-05      2.913      0.004     1.2e-05    6.16e-05\n",
      "Books        6.055e-05   6.22e-05      0.973      0.331   -6.16e-05       0.000\n",
      "Personal     3.199e-07   1.65e-05      0.019      0.985    -3.2e-05    3.27e-05\n",
      "PhD            -0.0041      0.001     -3.362      0.001      -0.006      -0.002\n",
      "Terminal       -0.0040      0.001     -3.032      0.003      -0.007      -0.001\n",
      "S.F.Ratio      -0.0147      0.003     -4.384      0.000      -0.021      -0.008\n",
      "perc.alumni     0.0027      0.001      2.520      0.012       0.001       0.005\n",
      "Expend      -5.457e-06    3.3e-06     -1.652      0.099   -1.19e-05    1.03e-06\n",
      "Grad.Rate       0.0015      0.001      1.993      0.047    2.32e-05       0.003\n",
      "==============================================================================\n",
      "Omnibus:                       28.459   Durbin-Watson:                   1.824\n",
      "Prob(Omnibus):                  0.000   Jarque-Bera (JB):               54.861\n",
      "Skew:                          -0.228   Prob(JB):                     1.22e-12\n",
      "Kurtosis:                       4.219   Cond. No.                     1.77e+05\n",
      "==============================================================================\n",
      "\n",
      "Notes:\n",
      "[1] Standard Errors assume that the covariance matrix of the errors is correctly specified.\n",
      "[2] The condition number is large, 1.77e+05. This might indicate that there are\n",
      "strong multicollinearity or other numerical problems.\n"
     ]
    }
   ],
   "source": [
    "X = collegerecoded.drop('Private_N', axis = 1)\n",
    "y = collegerecoded['Private_N']\n",
    "X = sm.add_constant(X)\n",
    "college_model = sm.OLS(y,X)\n",
    "college_results = college_model.fit()\n",
    "print(college_results.summary())"
   ]
  },
  {
   "cell_type": "code",
   "execution_count": 17,
   "id": "7fed0d5d",
   "metadata": {},
   "outputs": [
    {
     "name": "stdout",
     "output_type": "stream",
     "text": [
      "                 Apps    Accept    Enroll  Top10perc  Top25perc  F.Undergrad  \\\n",
      "Apps         1.000000  0.943451  0.846822   0.338834   0.351640     0.814491   \n",
      "Accept       0.943451  1.000000  0.911637   0.192447   0.247476     0.874223   \n",
      "Enroll       0.846822  0.911637  1.000000   0.181294   0.226745     0.964640   \n",
      "Top10perc    0.338834  0.192447  0.181294   1.000000   0.891995     0.141289   \n",
      "Top25perc    0.351640  0.247476  0.226745   0.891995   1.000000     0.199445   \n",
      "F.Undergrad  0.814491  0.874223  0.964640   0.141289   0.199445     1.000000   \n",
      "P.Undergrad  0.398264  0.441271  0.513069  -0.105356  -0.053577     0.570512   \n",
      "Outstate     0.050159 -0.025755 -0.155477   0.562331   0.489394    -0.215742   \n",
      "Room.Board   0.164939  0.090899 -0.040232   0.371480   0.331490    -0.068890   \n",
      "Books        0.132559  0.113525  0.112711   0.118858   0.115527     0.115550   \n",
      "Personal     0.178731  0.200989  0.280929  -0.093316  -0.080810     0.317200   \n",
      "PhD          0.390697  0.355758  0.331469   0.531828   0.545862     0.318337   \n",
      "Terminal     0.369491  0.337583  0.308274   0.491135   0.524749     0.300019   \n",
      "S.F.Ratio    0.095633  0.176229  0.237271  -0.384875  -0.294629     0.279703   \n",
      "perc.alumni -0.090226 -0.159990 -0.180794   0.455485   0.417864    -0.229462   \n",
      "Expend       0.259592  0.124717  0.064169   0.660913   0.527447     0.018652   \n",
      "Grad.Rate    0.146755  0.067313 -0.022341   0.494989   0.477281    -0.078773   \n",
      "Private_N   -0.432095 -0.475252 -0.567908   0.164132   0.095752    -0.615561   \n",
      "\n",
      "             P.Undergrad  Outstate  Room.Board     Books  Personal       PhD  \\\n",
      "Apps            0.398264  0.050159    0.164939  0.132559  0.178731  0.390697   \n",
      "Accept          0.441271 -0.025755    0.090899  0.113525  0.200989  0.355758   \n",
      "Enroll          0.513069 -0.155477   -0.040232  0.112711  0.280929  0.331469   \n",
      "Top10perc      -0.105356  0.562331    0.371480  0.118858 -0.093316  0.531828   \n",
      "Top25perc      -0.053577  0.489394    0.331490  0.115527 -0.080810  0.545862   \n",
      "F.Undergrad     0.570512 -0.215742   -0.068890  0.115550  0.317200  0.318337   \n",
      "P.Undergrad     1.000000 -0.253512   -0.061326  0.081200  0.319882  0.149114   \n",
      "Outstate       -0.253512  1.000000    0.654256  0.038855 -0.299087  0.382982   \n",
      "Room.Board     -0.061326  0.654256    1.000000  0.127963 -0.199428  0.329202   \n",
      "Books           0.081200  0.038855    0.127963  1.000000  0.179295  0.026906   \n",
      "Personal        0.319882 -0.299087   -0.199428  0.179295  1.000000 -0.010936   \n",
      "PhD             0.149114  0.382982    0.329202  0.026906 -0.010936  1.000000   \n",
      "Terminal        0.141904  0.407983    0.374540  0.099955 -0.030613  0.849587   \n",
      "S.F.Ratio       0.232531 -0.554821   -0.362628 -0.031929  0.136345 -0.130530   \n",
      "perc.alumni    -0.280792  0.566262    0.272363 -0.040208 -0.285968  0.249009   \n",
      "Expend         -0.083568  0.672779    0.501739  0.112409 -0.097892  0.432762   \n",
      "Grad.Rate      -0.257001  0.571290    0.424942  0.001061 -0.269344  0.305038   \n",
      "Private_N      -0.452088  0.552650    0.340532 -0.018549 -0.304485 -0.156714   \n",
      "\n",
      "             Terminal  S.F.Ratio  perc.alumni    Expend  Grad.Rate  Private_N  \n",
      "Apps         0.369491   0.095633    -0.090226  0.259592   0.146755  -0.432095  \n",
      "Accept       0.337583   0.176229    -0.159990  0.124717   0.067313  -0.475252  \n",
      "Enroll       0.308274   0.237271    -0.180794  0.064169  -0.022341  -0.567908  \n",
      "Top10perc    0.491135  -0.384875     0.455485  0.660913   0.494989   0.164132  \n",
      "Top25perc    0.524749  -0.294629     0.417864  0.527447   0.477281   0.095752  \n",
      "F.Undergrad  0.300019   0.279703    -0.229462  0.018652  -0.078773  -0.615561  \n",
      "P.Undergrad  0.141904   0.232531    -0.280792 -0.083568  -0.257001  -0.452088  \n",
      "Outstate     0.407983  -0.554821     0.566262  0.672779   0.571290   0.552650  \n",
      "Room.Board   0.374540  -0.362628     0.272363  0.501739   0.424942   0.340532  \n",
      "Books        0.099955  -0.031929    -0.040208  0.112409   0.001061  -0.018549  \n",
      "Personal    -0.030613   0.136345    -0.285968 -0.097892  -0.269344  -0.304485  \n",
      "PhD          0.849587  -0.130530     0.249009  0.432762   0.305038  -0.156714  \n",
      "Terminal     1.000000  -0.160104     0.267130  0.438799   0.289527  -0.129620  \n",
      "S.F.Ratio   -0.160104   1.000000    -0.402929 -0.583832  -0.306710  -0.472205  \n",
      "perc.alumni  0.267130  -0.402929     1.000000  0.417712   0.490898   0.414775  \n",
      "Expend       0.438799  -0.583832     0.417712  1.000000   0.390343   0.258461  \n",
      "Grad.Rate    0.289527  -0.306710     0.490898  0.390343   1.000000   0.336162  \n",
      "Private_N   -0.129620  -0.472205     0.414775  0.258461   0.336162   1.000000  \n"
     ]
    }
   ],
   "source": [
    "print(collegerecoded.corr())"
   ]
  },
  {
   "cell_type": "code",
   "execution_count": null,
   "id": "9f51fb03",
   "metadata": {},
   "outputs": [],
   "source": []
  }
 ],
 "metadata": {
  "kernelspec": {
   "display_name": "Python 3 (ipykernel)",
   "language": "python",
   "name": "python3"
  },
  "language_info": {
   "codemirror_mode": {
    "name": "ipython",
    "version": 3
   },
   "file_extension": ".py",
   "mimetype": "text/x-python",
   "name": "python",
   "nbconvert_exporter": "python",
   "pygments_lexer": "ipython3",
   "version": "3.9.13"
  }
 },
 "nbformat": 4,
 "nbformat_minor": 5
}
